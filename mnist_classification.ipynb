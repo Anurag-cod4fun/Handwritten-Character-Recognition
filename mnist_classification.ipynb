{
 "cells": [
  {
   "cell_type": "code",
   "execution_count": 1,
   "metadata": {},
   "outputs": [],
   "source": [
    "import tensorflow as tf\n",
    "from tensorflow.keras.layers import Dropout, Flatten, Dense, Conv2D, MaxPooling2D\n",
    "import pandas as pd\n",
    "import numpy as np\n",
    "import matplotlib.pyplot as plt\n",
    "from tensorflow.keras.models import Sequential\n",
    "from keras.utils.np_utils import to_categorical "
   ]
  },
  {
   "cell_type": "code",
   "execution_count": 2,
   "metadata": {},
   "outputs": [],
   "source": [
    "# loading training dataset in train_data dataframe\n",
    "train_data=pd.read_csv('../hand_written character recognition/mnist_train.csv')\n",
    "# loading testing dataset in test_data dataframe\n",
    "test_data=pd.read_csv('../hand_written character recognition/mnist_test.csv')"
   ]
  },
  {
   "cell_type": "code",
   "execution_count": 3,
   "metadata": {},
   "outputs": [
    {
     "data": {
      "text/html": [
       "<div>\n",
       "<style scoped>\n",
       "    .dataframe tbody tr th:only-of-type {\n",
       "        vertical-align: middle;\n",
       "    }\n",
       "\n",
       "    .dataframe tbody tr th {\n",
       "        vertical-align: top;\n",
       "    }\n",
       "\n",
       "    .dataframe thead th {\n",
       "        text-align: right;\n",
       "    }\n",
       "</style>\n",
       "<table border=\"1\" class=\"dataframe\">\n",
       "  <thead>\n",
       "    <tr style=\"text-align: right;\">\n",
       "      <th></th>\n",
       "      <th>label</th>\n",
       "      <th>1x1</th>\n",
       "      <th>1x2</th>\n",
       "      <th>1x3</th>\n",
       "      <th>1x4</th>\n",
       "      <th>1x5</th>\n",
       "      <th>1x6</th>\n",
       "      <th>1x7</th>\n",
       "      <th>1x8</th>\n",
       "      <th>1x9</th>\n",
       "      <th>...</th>\n",
       "      <th>28x19</th>\n",
       "      <th>28x20</th>\n",
       "      <th>28x21</th>\n",
       "      <th>28x22</th>\n",
       "      <th>28x23</th>\n",
       "      <th>28x24</th>\n",
       "      <th>28x25</th>\n",
       "      <th>28x26</th>\n",
       "      <th>28x27</th>\n",
       "      <th>28x28</th>\n",
       "    </tr>\n",
       "  </thead>\n",
       "  <tbody>\n",
       "    <tr>\n",
       "      <th>0</th>\n",
       "      <td>5</td>\n",
       "      <td>0</td>\n",
       "      <td>0</td>\n",
       "      <td>0</td>\n",
       "      <td>0</td>\n",
       "      <td>0</td>\n",
       "      <td>0</td>\n",
       "      <td>0</td>\n",
       "      <td>0</td>\n",
       "      <td>0</td>\n",
       "      <td>...</td>\n",
       "      <td>0</td>\n",
       "      <td>0</td>\n",
       "      <td>0</td>\n",
       "      <td>0</td>\n",
       "      <td>0</td>\n",
       "      <td>0</td>\n",
       "      <td>0</td>\n",
       "      <td>0</td>\n",
       "      <td>0</td>\n",
       "      <td>0</td>\n",
       "    </tr>\n",
       "    <tr>\n",
       "      <th>1</th>\n",
       "      <td>0</td>\n",
       "      <td>0</td>\n",
       "      <td>0</td>\n",
       "      <td>0</td>\n",
       "      <td>0</td>\n",
       "      <td>0</td>\n",
       "      <td>0</td>\n",
       "      <td>0</td>\n",
       "      <td>0</td>\n",
       "      <td>0</td>\n",
       "      <td>...</td>\n",
       "      <td>0</td>\n",
       "      <td>0</td>\n",
       "      <td>0</td>\n",
       "      <td>0</td>\n",
       "      <td>0</td>\n",
       "      <td>0</td>\n",
       "      <td>0</td>\n",
       "      <td>0</td>\n",
       "      <td>0</td>\n",
       "      <td>0</td>\n",
       "    </tr>\n",
       "    <tr>\n",
       "      <th>2</th>\n",
       "      <td>4</td>\n",
       "      <td>0</td>\n",
       "      <td>0</td>\n",
       "      <td>0</td>\n",
       "      <td>0</td>\n",
       "      <td>0</td>\n",
       "      <td>0</td>\n",
       "      <td>0</td>\n",
       "      <td>0</td>\n",
       "      <td>0</td>\n",
       "      <td>...</td>\n",
       "      <td>0</td>\n",
       "      <td>0</td>\n",
       "      <td>0</td>\n",
       "      <td>0</td>\n",
       "      <td>0</td>\n",
       "      <td>0</td>\n",
       "      <td>0</td>\n",
       "      <td>0</td>\n",
       "      <td>0</td>\n",
       "      <td>0</td>\n",
       "    </tr>\n",
       "    <tr>\n",
       "      <th>3</th>\n",
       "      <td>1</td>\n",
       "      <td>0</td>\n",
       "      <td>0</td>\n",
       "      <td>0</td>\n",
       "      <td>0</td>\n",
       "      <td>0</td>\n",
       "      <td>0</td>\n",
       "      <td>0</td>\n",
       "      <td>0</td>\n",
       "      <td>0</td>\n",
       "      <td>...</td>\n",
       "      <td>0</td>\n",
       "      <td>0</td>\n",
       "      <td>0</td>\n",
       "      <td>0</td>\n",
       "      <td>0</td>\n",
       "      <td>0</td>\n",
       "      <td>0</td>\n",
       "      <td>0</td>\n",
       "      <td>0</td>\n",
       "      <td>0</td>\n",
       "    </tr>\n",
       "    <tr>\n",
       "      <th>4</th>\n",
       "      <td>9</td>\n",
       "      <td>0</td>\n",
       "      <td>0</td>\n",
       "      <td>0</td>\n",
       "      <td>0</td>\n",
       "      <td>0</td>\n",
       "      <td>0</td>\n",
       "      <td>0</td>\n",
       "      <td>0</td>\n",
       "      <td>0</td>\n",
       "      <td>...</td>\n",
       "      <td>0</td>\n",
       "      <td>0</td>\n",
       "      <td>0</td>\n",
       "      <td>0</td>\n",
       "      <td>0</td>\n",
       "      <td>0</td>\n",
       "      <td>0</td>\n",
       "      <td>0</td>\n",
       "      <td>0</td>\n",
       "      <td>0</td>\n",
       "    </tr>\n",
       "  </tbody>\n",
       "</table>\n",
       "<p>5 rows × 785 columns</p>\n",
       "</div>"
      ],
      "text/plain": [
       "   label  1x1  1x2  1x3  1x4  1x5  1x6  1x7  1x8  1x9  ...  28x19  28x20  \\\n",
       "0      5    0    0    0    0    0    0    0    0    0  ...      0      0   \n",
       "1      0    0    0    0    0    0    0    0    0    0  ...      0      0   \n",
       "2      4    0    0    0    0    0    0    0    0    0  ...      0      0   \n",
       "3      1    0    0    0    0    0    0    0    0    0  ...      0      0   \n",
       "4      9    0    0    0    0    0    0    0    0    0  ...      0      0   \n",
       "\n",
       "   28x21  28x22  28x23  28x24  28x25  28x26  28x27  28x28  \n",
       "0      0      0      0      0      0      0      0      0  \n",
       "1      0      0      0      0      0      0      0      0  \n",
       "2      0      0      0      0      0      0      0      0  \n",
       "3      0      0      0      0      0      0      0      0  \n",
       "4      0      0      0      0      0      0      0      0  \n",
       "\n",
       "[5 rows x 785 columns]"
      ]
     },
     "execution_count": 3,
     "metadata": {},
     "output_type": "execute_result"
    }
   ],
   "source": [
    "train_data.head()"
   ]
  },
  {
   "cell_type": "code",
   "execution_count": 4,
   "metadata": {},
   "outputs": [
    {
     "name": "stderr",
     "output_type": "stream",
     "text": [
      "C:\\Users\\Anurag\\AppData\\Local\\Temp\\ipykernel_13700\\3507674394.py:1: FutureWarning: In a future version of pandas all arguments of DataFrame.drop except for the argument 'labels' will be keyword-only.\n",
      "  X_train=train_data.drop('label',1)\n"
     ]
    }
   ],
   "source": [
    "X_train=train_data.drop('label',1)\n",
    "# reshaping X_train\n",
    "X_train=X_train.values.reshape(-1,28,28,1)\n",
    "# normalizing X_train\n",
    "X_train=tf.keras.utils.normalize(X_train,axis=1)"
   ]
  },
  {
   "cell_type": "code",
   "execution_count": 5,
   "metadata": {},
   "outputs": [],
   "source": [
    "y_train=train_data['label']\n",
    "y_train = to_categorical(y_train, num_classes = 10)"
   ]
  },
  {
   "cell_type": "code",
   "execution_count": 6,
   "metadata": {},
   "outputs": [],
   "source": [
    "model=Sequential()\n",
    "model.add(Conv2D(64, (3, 3),activation='relu',input_shape=(28,28,1)))\n",
    "model.add(MaxPooling2D(pool_size=(2, 2)))\n",
    "\n",
    "model.add(Conv2D(32, (3, 3),activation='relu'))\n",
    "model.add(MaxPooling2D(pool_size=(2, 2)))\n",
    "test_data=tf.keras.utils.normalize(test_data,axis=1)\n",
    "\n",
    "model.add(Flatten())\n",
    "model.add(Dense(256,activation=tf.nn.relu))\n",
    "model.add(Dense(128,activation=tf.nn.relu))\n",
    "model.add(Dropout(0.2))\n",
    "model.add(Dense(10,activation=tf.nn.softmax))"
   ]
  },
  {
   "cell_type": "code",
   "execution_count": 7,
   "metadata": {},
   "outputs": [
    {
     "name": "stdout",
     "output_type": "stream",
     "text": [
      "Epoch 1/10\n",
      "60/60 [==============================] - 39s 637ms/step - loss: 0.8280 - accuracy: 0.7694\n",
      "Epoch 2/10\n",
      "60/60 [==============================] - 36s 605ms/step - loss: 0.1894 - accuracy: 0.9423\n",
      "Epoch 3/10\n",
      "60/60 [==============================] - 36s 599ms/step - loss: 0.1173 - accuracy: 0.9642\n",
      "Epoch 4/10\n",
      "60/60 [==============================] - 35s 581ms/step - loss: 0.0904 - accuracy: 0.9724\n",
      "Epoch 5/10\n",
      "60/60 [==============================] - 35s 584ms/step - loss: 0.0705 - accuracy: 0.9788\n",
      "Epoch 6/10\n",
      "60/60 [==============================] - 36s 604ms/step - loss: 0.0564 - accuracy: 0.9835\n",
      "Epoch 7/10\n",
      "60/60 [==============================] - 36s 605ms/step - loss: 0.0479 - accuracy: 0.9853\n",
      "Epoch 8/10\n",
      "60/60 [==============================] - 36s 600ms/step - loss: 0.0420 - accuracy: 0.9873\n",
      "Epoch 9/10\n",
      "60/60 [==============================] - 35s 586ms/step - loss: 0.0375 - accuracy: 0.9882\n",
      "Epoch 10/10\n",
      "60/60 [==============================] - 36s 593ms/step - loss: 0.0337 - accuracy: 0.9897\n"
     ]
    },
    {
     "data": {
      "text/plain": [
       "<keras.callbacks.History at 0x1cc025251e0>"
      ]
     },
     "execution_count": 7,
     "metadata": {},
     "output_type": "execute_result"
    }
   ],
   "source": [
    "model.compile(optimizer='adam',loss='categorical_crossentropy',metrics=['accuracy'])\n",
    "model.fit(X_train,y_train,epochs=10,batch_size=1000)"
   ]
  },
  {
   "cell_type": "code",
   "execution_count": 8,
   "metadata": {},
   "outputs": [],
   "source": [
    "model.save('final_model.h5')"
   ]
  },
  {
   "cell_type": "code",
   "execution_count": 9,
   "metadata": {},
   "outputs": [
    {
     "name": "stderr",
     "output_type": "stream",
     "text": [
      "C:\\Users\\Anurag\\AppData\\Local\\Temp\\ipykernel_13700\\856917808.py:1: FutureWarning: In a future version of pandas all arguments of DataFrame.drop except for the argument 'labels' will be keyword-only.\n",
      "  test_data=test_data.drop('label',1)\n"
     ]
    }
   ],
   "source": [
    "test_data=test_data.drop('label',1)\n",
    "test_data=test_data.values.reshape(-1,28,28,1)"
   ]
  },
  {
   "cell_type": "code",
   "execution_count": 10,
   "metadata": {},
   "outputs": [
    {
     "name": "stdout",
     "output_type": "stream",
     "text": [
      "313/313 [==============================] - 3s 8ms/step\n",
      "The predicted number is  9\n"
     ]
    },
    {
     "data": {
      "image/png": "[encoded data removed]",
      "text/plain": [
       "<Figure size 432x288 with 1 Axes>"
      ]
     },
     "metadata": {
      "needs_background": "light"
     },
     "output_type": "display_data"
    }
   ],
   "source": [
    "prediction=model.predict(test_data)\n",
    "prediction=np.argmax(prediction,axis=1)\n",
    "plt.imshow(test_data[521].reshape(28,28))\n",
    "print('The predicted number is  '+str(prediction[521]))"
   ]
  },
  {
   "cell_type": "code",
   "execution_count": 11,
   "metadata": {},
   "outputs": [
    {
     "name": "stdout",
     "output_type": "stream",
     "text": [
      "313/313 [==============================] - 3s 9ms/step\n",
      "The predicted number is  7\n"
     ]
    },
    {
     "data": {
      "image/png": "[encoded data removed]",
      "text/plain": [
       "<Figure size 432x288 with 1 Axes>"
      ]
     },
     "metadata": {
      "needs_background": "light"
     },
     "output_type": "display_data"
    }
   ],
   "source": [
    "from keras.models import load_model\n",
    "saved_model = load_model('final_model.h5')\n",
    "prediction=saved_model.predict(test_data)\n",
    "prediction=np.argmax(prediction,axis=1)\n",
    "plt.imshow(test_data[111].reshape(28,28))\n",
    "print('The predicted number is  '+str(prediction[111]))\n",
    "# pickled_model.predict(test_data)"
   ]
  },
  {
   "cell_type": "code",
   "execution_count": 15,
   "metadata": {},
   "outputs": [
    {
     "name": "stdout",
     "output_type": "stream",
     "text": [
      "WARNING:tensorflow:6 out of the last 318 calls to <function Model.make_predict_function.<locals>.predict_function at 0x000001CC0326E3B0> triggered tf.function retracing. Tracing is expensive and the excessive number of tracings could be due to (1) creating @tf.function repeatedly in a loop, (2) passing tensors with different shapes, (3) passing Python objects instead of tensors. For (1), please define your @tf.function outside of the loop. For (2), @tf.function has reduce_retracing=True option that can avoid unnecessary retracing. For (3), please refer to https://www.tensorflow.org/guide/function#controlling_retracing and https://www.tensorflow.org/api_docs/python/tf/function for  more details.\n",
      "1/1 [==============================] - 0s 141ms/step\n",
      "8\n"
     ]
    },
    {
     "name": "stderr",
     "output_type": "stream",
     "text": [
      "Exception in Tkinter callback\n",
      "Traceback (most recent call last):\n",
      "  File \"c:\\Users\\Anurag\\AppData\\Local\\Programs\\Python\\Python310\\lib\\tkinter\\__init__.py\", line 1921, in __call__\n",
      "    return self.func(*args)\n",
      "  File \"C:\\Users\\Anurag\\AppData\\Local\\Temp\\ipykernel_13700\\135441474.py\", line 23, in <lambda>\n",
      "    self.predicting_button=Button(self.root,text='Predict',fg='maroon',bg='steel blue',height=2,width=6,font=self.myfont,command=lambda:self.classify(self.c))\n",
      "  File \"C:\\Users\\Anurag\\AppData\\Local\\Temp\\ipykernel_13700\\135441474.py\", line 61, in classify\n",
      "    ImageGrab.grab().crop((x,y,x1,y1)).resize((28,28)).save('classify.png')\n",
      "  File \"c:\\Users\\Anurag\\AppData\\Local\\Programs\\Python\\Python310\\lib\\site-packages\\PIL\\Image.py\", line 1171, in crop\n",
      "    raise ValueError(\"Coordinate 'right' is less than 'left'\")\n",
      "ValueError: Coordinate 'right' is less than 'left'\n",
      "Exception in Tkinter callback\n",
      "Traceback (most recent call last):\n",
      "  File \"c:\\Users\\Anurag\\AppData\\Local\\Programs\\Python\\Python310\\lib\\tkinter\\__init__.py\", line 1921, in __call__\n",
      "    return self.func(*args)\n",
      "  File \"C:\\Users\\Anurag\\AppData\\Local\\Temp\\ipykernel_13700\\135441474.py\", line 23, in <lambda>\n",
      "    self.predicting_button=Button(self.root,text='Predict',fg='maroon',bg='steel blue',height=2,width=6,font=self.myfont,command=lambda:self.classify(self.c))\n",
      "  File \"C:\\Users\\Anurag\\AppData\\Local\\Temp\\ipykernel_13700\\135441474.py\", line 61, in classify\n",
      "    ImageGrab.grab().crop((x,y,x1,y1)).resize((28,28)).save('classify.png')\n",
      "  File \"c:\\Users\\Anurag\\AppData\\Local\\Programs\\Python\\Python310\\lib\\site-packages\\PIL\\Image.py\", line 1171, in crop\n",
      "    raise ValueError(\"Coordinate 'right' is less than 'left'\")\n",
      "ValueError: Coordinate 'right' is less than 'left'\n"
     ]
    }
   ],
   "source": [
    "from keras.models import load_model\n",
    "from tkinter import *\n",
    "from PIL import ImageGrab\n",
    "import imageio.v2 as imageio\n",
    "import tkinter.font as font\n",
    "\n",
    "\n",
    "class Paint(object):\n",
    "    def __init__(self):\n",
    "        self.root=Tk()\n",
    "        self.root.title('Playing with numbers')\n",
    "        # self.root.wm_iconbitmap('44143.ico')\n",
    "        self.root.configure(background='light salmon')\n",
    "        self.c=Canvas(self.root,bg='light cyan',height=330,width=400)\n",
    "        self.label=Label(self.root,text='Draw any numer',font=20,bg='light salmon')\n",
    "        self.label.grid(row=0,column=3)\n",
    "        self.c.grid(row=1,columnspan=9)\n",
    "        self.c.create_line(0,0,400,0,width=20,fill='midnight blue')\n",
    "        self.c.create_line(0,0,0,330,width=20,fill='midnight blue')\n",
    "        self.c.create_line(400,0,400,330,width=20,fill='midnight blue')\n",
    "        self.c.create_line(0,330,400,330,width=20,fill='midnight blue')\n",
    "        self.myfont=font.Font(size=20,weight='bold')\n",
    "        self.predicting_button=Button(self.root,text='Predict',fg='maroon',bg='steel blue',height=2,width=6,font=self.myfont,command=lambda:self.classify(self.c))\n",
    "        self.predicting_button.grid(row=2,column=1)\n",
    "        self.clear=Button(self.root,text='Clear',fg='blue',bg='red',height=2,width=6,font=self.myfont,command=self.clear)\n",
    "        self.clear.grid(row=2,column=5)\n",
    "        self.prediction_text = Text(self.root, height=5, width=5)\n",
    "        self.prediction_text.grid(row=4, column=3)\n",
    "        self.label=Label(self.root,text=\"Predicted Number is\",fg=\"black\",font=30,bg='light salmon')\n",
    "        \n",
    "        self.label.grid(row=3,column=3)\n",
    "        self.model=model\n",
    "        self.setup()\n",
    "        self.root.mainloop()\n",
    "    def setup(self):\n",
    "        self.old_x=None\n",
    "        self.old_y=None\n",
    "        self.color='black'\n",
    "        self.linewidth=15\n",
    "        self.c.bind('<B1-Motion>', self.paint)\n",
    "        self.c.bind('<ButtonRelease-1>', self.reset)\n",
    "    def paint(self,event):\n",
    "        paint_color=self.color\n",
    "        if self.old_x and self.old_y:\n",
    "            self.c.create_line(self.old_x,self.old_y,event.x,event.y,fill=paint_color,width=self.linewidth,capstyle=ROUND,\n",
    "                              smooth=TRUE,splinesteps=48)\n",
    "        self.old_x=event.x\n",
    "        self.old_y=event.y\n",
    "    def clear(self):\n",
    "        \"\"\"Clear drawing area\"\"\"\n",
    "        self.c.delete(\"all\")\n",
    "\n",
    "    def reset(self, event):\n",
    "        \"\"\"reset old_x and old_y if the left mouse button is released\"\"\"\n",
    "        self.old_x, self.old_y = None, None    \n",
    "    def classify(self,widget):\n",
    "        x=self.root.winfo_rootx()+widget.winfo_x()\n",
    "        y=self.root.winfo_rooty()+widget.winfo_y()\n",
    "        x1=widget.winfo_width()\n",
    "        y1=widget.winfo_height()\n",
    "        ImageGrab.grab().crop((x,y,x1,y1)).resize((28,28)).save('classify.png')\n",
    "        img=imageio.imread('classify.png',as_gray=False,pilmode='P')\n",
    "        img=np.array(img)\n",
    "        img=np.reshape(img,(-1,28,28,1))\n",
    "        img[img==0] = 255\n",
    "        img[img==225] = 0\n",
    "        # Predict digit\n",
    "        # pred = self.model.predict([img])\n",
    "        # # Get index with highest probability\n",
    "        # pred = np.argmax(pred)\n",
    "        saved_model = load_model('final_model.h5')\n",
    "        pred = saved_model.predict([img])\n",
    "        pred = np.argmax(pred)\n",
    "        print(pred)\n",
    "        self.prediction_text.delete(\"1.0\", END)\n",
    "        self.prediction_text.insert(END, pred)\n",
    "        labelfont = ('times', 30, 'bold')\n",
    "        self.prediction_text.config(font=labelfont)\n",
    "        \n",
    "if __name__ == '__main__':\n",
    "    Paint()"
   ]
  }
 ],
 "metadata": {
  "kernelspec": {
   "display_name": "Python 3.10.4 64-bit",
   "language": "python",
   "name": "python3"
  },
  "language_info": {
   "codemirror_mode": {
    "name": "ipython",
    "version": 3
   },
   "file_extension": ".py",
   "mimetype": "text/x-python",
   "name": "python",
   "nbconvert_exporter": "python",
   "pygments_lexer": "ipython3",
   "version": "3.10.4"
  },
  "vscode": {
   "interpreter": {
    "hash": "81ccf3dca776907172787f2b502aba0fb6858f2c4c4214aa32c95bd3c8d05764"
   }
  }
 },
 "nbformat": 4,
 "nbformat_minor": 4
}
